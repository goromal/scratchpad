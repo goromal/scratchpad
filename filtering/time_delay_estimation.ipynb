{
 "cells": [
  {
   "cell_type": "markdown",
   "id": "b62a2afc-7025-4b15-badd-7a705c0f3b52",
   "metadata": {},
   "source": [
    "## \"Elbow Detector\" Method\n",
    "High-pass filter the two signals to:\n",
    "- Remove any DC offset between the signals\n",
    "- Isolate **slope changes** (or \"elbows\") in the two signals and compare those directly, as constant-slope comparisons may make the horizontal vs. vertical offsets estimation ambiguous in real-time."
   ]
  },
  {
   "cell_type": "code",
   "execution_count": null,
   "id": "3302a0ae-79f4-407b-8628-b10e070ff012",
   "metadata": {},
   "outputs": [],
   "source": []
  },
  {
   "cell_type": "markdown",
   "id": "817af181-c757-4070-9ee7-c6fd26791b0e",
   "metadata": {},
   "source": [
    "## Kalman Filter Method\n",
    "References:\n",
    "- https://beteje.github.io/assets/pdf/2019_APSIPA.pdf\n",
    "- https://www.sciencedirect.com/science/article/pii/S1474667016396033"
   ]
  },
  {
   "cell_type": "code",
   "execution_count": null,
   "id": "bf80b58b-e09b-4427-ac88-35093ea46461",
   "metadata": {},
   "outputs": [],
   "source": []
  }
 ],
 "metadata": {
  "kernelspec": {
   "display_name": "SageMath 10.3",
   "language": "sage",
   "name": "sagemath"
  },
  "language_info": {
   "codemirror_mode": {
    "name": "ipython",
    "version": 3
   },
   "file_extension": ".py",
   "mimetype": "text/x-python",
   "name": "python",
   "nbconvert_exporter": "python",
   "pygments_lexer": "ipython3",
   "version": "3.11.9"
  }
 },
 "nbformat": 4,
 "nbformat_minor": 5
}
