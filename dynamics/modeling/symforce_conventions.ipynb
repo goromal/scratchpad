{
 "cells": [
  {
   "cell_type": "code",
   "execution_count": 16,
   "id": "1e7f81d0-1b5c-4f8f-aa6d-c806d8aa341f",
   "metadata": {},
   "outputs": [],
   "source": [
    "from geometry import SO3, SE3, SO2, SE2\n",
    "import numpy as np\n",
    "import symforce.symbolic as sf"
   ]
  },
  {
   "cell_type": "markdown",
   "id": "56684992-5fbc-4426-aa26-9db00f3536da",
   "metadata": {},
   "source": [
    "## SO(2) Conventions\n",
    "\n",
    "They seem identical!"
   ]
  },
  {
   "cell_type": "code",
   "execution_count": 17,
   "id": "d806d1b3-0702-4257-9c8d-125987b2174d",
   "metadata": {},
   "outputs": [],
   "source": [
    "def geometryToSymforceRot2(q):\n",
    "    return sf.Rot2.from_angle(q.angle())"
   ]
  },
  {
   "cell_type": "code",
   "execution_count": 18,
   "id": "a982ff6d-b69a-49dc-ae48-02414b7e2518",
   "metadata": {},
   "outputs": [],
   "source": [
    "q1 = SO2.random()\n",
    "R1 = geometryToSymforceRot2(q1)\n",
    "q2 = SO2.random()\n",
    "R2 = geometryToSymforceRot2(q2)"
   ]
  },
  {
   "cell_type": "code",
   "execution_count": 19,
   "id": "a58314b8-f471-4138-a6cd-3790d3aec327",
   "metadata": {},
   "outputs": [
    {
     "data": {
      "text/plain": [
       "array([1.24099941])"
      ]
     },
     "execution_count": 19,
     "metadata": {},
     "output_type": "execute_result"
    }
   ],
   "source": [
    "q2 - q1"
   ]
  },
  {
   "cell_type": "code",
   "execution_count": 20,
   "id": "403e9dee-9f39-4951-9acc-afdc1cb9bcf8",
   "metadata": {},
   "outputs": [
    {
     "data": {
      "text/plain": [
       "[atan2(0.946108131878466, 0.32385089592811)]"
      ]
     },
     "execution_count": 20,
     "metadata": {},
     "output_type": "execute_result"
    }
   ],
   "source": [
    "R1.local_coordinates(R2)"
   ]
  },
  {
   "cell_type": "code",
   "execution_count": 22,
   "id": "2de28aec-bf96-427f-8088-c51a68ec990d",
   "metadata": {},
   "outputs": [
    {
     "data": {
      "text/plain": [
       "1.2409994105016053"
      ]
     },
     "execution_count": 22,
     "metadata": {},
     "output_type": "execute_result"
    }
   ],
   "source": [
    "np.arctan2(0.946108131878466, 0.32385089592811)"
   ]
  },
  {
   "cell_type": "code",
   "execution_count": 23,
   "id": "88794efd-e903-4f14-aacd-4545034e3419",
   "metadata": {},
   "outputs": [
    {
     "data": {
      "text/plain": [
       "SO(2): [ 0.483425, -0.875386i ]"
      ]
     },
     "execution_count": 23,
     "metadata": {},
     "output_type": "execute_result"
    }
   ],
   "source": [
    "q1"
   ]
  },
  {
   "cell_type": "code",
   "execution_count": 24,
   "id": "0a6ce015-25dd-4cd4-93d3-cb9000a4b54a",
   "metadata": {},
   "outputs": [
    {
     "data": {
      "text/plain": [
       "<Rot2 <C real=0.48342459747263, imag=-0.875386005461834>>"
      ]
     },
     "execution_count": 24,
     "metadata": {},
     "output_type": "execute_result"
    }
   ],
   "source": [
    "R1"
   ]
  },
  {
   "cell_type": "markdown",
   "id": "c3491f57-bad5-4664-98fa-365a569bb240",
   "metadata": {},
   "source": [
    "## SE(2) Conventions\n",
    "\n",
    "- **geometry:** translation first, then rotation\n",
    "- **symforce:** rotation first, then transform\n",
    "- Representation ordering differences mirror tangent space ordering differences\n",
    "- ***Symforce doesn't scale the translation by the left Jacobian...***"
   ]
  },
  {
   "cell_type": "code",
   "execution_count": 27,
   "id": "2bdbf0ae-ab34-45aa-89d3-93edd570a65d",
   "metadata": {},
   "outputs": [],
   "source": [
    "def geometryToSymforceTrans2(T):\n",
    "    t = T.t()\n",
    "    q = T.q()\n",
    "    return sf.Pose2(R=sf.Rot2.from_angle(q.angle()), t=sf.V2(t))"
   ]
  },
  {
   "cell_type": "code",
   "execution_count": 28,
   "id": "1d8a5e11-5f2b-4418-b174-febcdd1fbdab",
   "metadata": {},
   "outputs": [],
   "source": [
    "T1 = SE2.random()\n",
    "X1 = geometryToSymforceTrans2(T1)\n",
    "T2 = SE2.random()\n",
    "X2 = geometryToSymforceTrans2(T2)"
   ]
  },
  {
   "cell_type": "code",
   "execution_count": 29,
   "id": "788659f0-558f-4aa8-b1d3-1bbcb0f3f81a",
   "metadata": {},
   "outputs": [
    {
     "data": {
      "text/plain": [
       "array([-0.34419452,  0.93742488, -0.88294329])"
      ]
     },
     "execution_count": 29,
     "metadata": {},
     "output_type": "execute_result"
    }
   ],
   "source": [
    "T2 - T1"
   ]
  },
  {
   "cell_type": "code",
   "execution_count": 31,
   "id": "63bde840-66c8-474d-953d-ad8608193039",
   "metadata": {},
   "outputs": [
    {
     "data": {
      "text/plain": [
       "[atan2(-0.772610861391239, 0.634879875929524),\n",
       " -0.486860466416395,\n",
       " -0.834910978020593]"
      ]
     },
     "execution_count": 31,
     "metadata": {},
     "output_type": "execute_result"
    }
   ],
   "source": [
    "X1.local_coordinates(X2)"
   ]
  },
  {
   "cell_type": "markdown",
   "id": "66c55baf-1eca-4782-b863-2685150cfaf8",
   "metadata": {},
   "source": [
    "## SO(3) Conventions\n",
    "\n",
    "- **geometry:** **w**, x, y, z\n",
    "- **symforce:** x, y, z, **w**\n",
    "- Despite difference in representation ordering, tangent space ordering is *identical*"
   ]
  },
  {
   "cell_type": "code",
   "execution_count": 2,
   "id": "9cb1ee73-c155-4320-8ae2-5cdf43ec8217",
   "metadata": {},
   "outputs": [],
   "source": [
    "def geometryToSymforceRotation(q):\n",
    "    rpy = q.toEuler()\n",
    "    return sf.Rot3.from_yaw_pitch_roll(rpy[2], rpy[1], rpy[0])"
   ]
  },
  {
   "cell_type": "code",
   "execution_count": 3,
   "id": "5d197ffb-cd54-4dea-a302-284a44bd2fb7",
   "metadata": {},
   "outputs": [],
   "source": [
    "q1 = SO3.random()\n",
    "R1 = geometryToSymforceRotation(q1)\n",
    "q2 = SO3.random()\n",
    "R2 = geometryToSymforceRotation(q2)"
   ]
  },
  {
   "cell_type": "code",
   "execution_count": 4,
   "id": "55fc0c78-70e1-4287-9bd5-6826b1514d29",
   "metadata": {},
   "outputs": [
    {
     "data": {
      "text/plain": [
       "array([-0.8022592 ,  1.77019986, -1.86321679])"
      ]
     },
     "execution_count": 4,
     "metadata": {},
     "output_type": "execute_result"
    }
   ],
   "source": [
    "q2 - q1"
   ]
  },
  {
   "cell_type": "code",
   "execution_count": 5,
   "id": "7dbbfb5d-3c92-4ad9-a779-9b290ef04361",
   "metadata": {},
   "outputs": [
    {
     "data": {
      "text/plain": [
       "[-0.80225920297874, 1.77019986313989, -1.86321678724983]"
      ]
     },
     "execution_count": 5,
     "metadata": {},
     "output_type": "execute_result"
    }
   ],
   "source": [
    "R1.local_coordinates(R2)"
   ]
  },
  {
   "cell_type": "code",
   "execution_count": 6,
   "id": "e2f0b04b-9272-4916-894e-72584a144585",
   "metadata": {},
   "outputs": [
    {
     "data": {
      "text/plain": [
       "<Rot3 <Q xyzw=[-0.683192728724483, 0.716827827300218, -0.0710432118093974, 0.119826639282961]>>"
      ]
     },
     "execution_count": 6,
     "metadata": {},
     "output_type": "execute_result"
    }
   ],
   "source": [
    "R1"
   ]
  },
  {
   "cell_type": "markdown",
   "id": "093d7652-0bc4-4a28-a42e-9f53b6b282ce",
   "metadata": {},
   "source": [
    "## SE(3) Conventions\n",
    "\n",
    "- **geometry:** translation first, then rotation\n",
    "- **symforce:** rotation first, then transform\n",
    "- Representation ordering differences mirror tangent space ordering differences\n",
    "- ***Symforce doesn't scale the translation by the left Jacobian...***"
   ]
  },
  {
   "cell_type": "code",
   "execution_count": 7,
   "id": "2d38e536-d0a5-4c9d-ac83-7c33c99e69e8",
   "metadata": {},
   "outputs": [],
   "source": [
    "def geometryToSymforceTransform(T):\n",
    "    t = T.t()\n",
    "    q = T.q()\n",
    "    return sf.Pose3(R=sf.Rot3.from_rotation_matrix(q.R()), t=sf.V3(t))"
   ]
  },
  {
   "cell_type": "code",
   "execution_count": 8,
   "id": "cd43b00c-dc4e-41a1-bac0-8224689d59e2",
   "metadata": {},
   "outputs": [],
   "source": [
    "T1 = SE3.random()\n",
    "X1 = geometryToSymforceTransform(T1)\n",
    "T2 = SE3.random()\n",
    "X2 = geometryToSymforceTransform(T2)"
   ]
  },
  {
   "cell_type": "code",
   "execution_count": 9,
   "id": "55dbb4f2-d631-4e00-a710-7f6e242b810b",
   "metadata": {},
   "outputs": [
    {
     "data": {
      "text/plain": [
       "array([-0.98348644, -0.79402169,  0.61584166, -0.89854147,  2.3093438 ,\n",
       "       -0.01905432])"
      ]
     },
     "execution_count": 9,
     "metadata": {},
     "output_type": "execute_result"
    }
   ],
   "source": [
    "T2 - T1"
   ]
  },
  {
   "cell_type": "code",
   "execution_count": 13,
   "id": "31e121f3-929c-48f8-8fc5-2284f655585f",
   "metadata": {},
   "outputs": [
    {
     "data": {
      "text/plain": [
       "SE(3): [ -0.198111i, -0.740419j, -0.782382k ] [ 0.749209, -0.423079i, 0.019420j, 0.509227k ]"
      ]
     },
     "execution_count": 13,
     "metadata": {},
     "output_type": "execute_result"
    }
   ],
   "source": [
    "T2"
   ]
  },
  {
   "cell_type": "code",
   "execution_count": 14,
   "id": "774eaae0-7814-4d1d-be04-5818de0eace0",
   "metadata": {},
   "outputs": [
    {
     "data": {
      "text/plain": [
       "SE(3): [ -0.716795i, 0.213938j, -0.967399k ] [ 0.402477, 0.567866i, -0.476148j, 0.537423k ]"
      ]
     },
     "execution_count": 14,
     "metadata": {},
     "output_type": "execute_result"
    }
   ],
   "source": [
    "T1"
   ]
  },
  {
   "cell_type": "code",
   "execution_count": 15,
   "id": "7066b068-53d3-4cb8-b00a-1821d362873d",
   "metadata": {},
   "outputs": [
    {
     "data": {
      "text/plain": [
       "array([ 0.51868368, -0.95435686,  0.18501646])"
      ]
     },
     "execution_count": 15,
     "metadata": {},
     "output_type": "execute_result"
    }
   ],
   "source": [
    "T2.t() - T1.t()"
   ]
  },
  {
   "cell_type": "code",
   "execution_count": 12,
   "id": "0f1ad09a-b567-44d6-ba11-c0d76a29774f",
   "metadata": {},
   "outputs": [
    {
     "data": {
      "text/plain": [
       "[-0.898541467169147,\n",
       " 2.30934379535911,\n",
       " -0.0190543242188678,\n",
       " 0.51868367778076,\n",
       " -0.954356858951206,\n",
       " 0.185016460802879]"
      ]
     },
     "execution_count": 12,
     "metadata": {},
     "output_type": "execute_result"
    }
   ],
   "source": [
    "X1.local_coordinates(X2)"
   ]
  },
  {
   "cell_type": "code",
   "execution_count": 38,
   "id": "0c335e4f-e317-4599-827f-2cad76c1141b",
   "metadata": {},
   "outputs": [
    {
     "data": {
      "text/plain": [
       "<Pose3 R=<Rot3 <Q xyzw=[-0.623511218461162, 0.241437925601021, 0.696364345368465, -0.260802965922747]>>, t=(0.0519907004442022, -0.827888304287516, -0.615572308011154)>"
      ]
     },
     "execution_count": 38,
     "metadata": {},
     "output_type": "execute_result"
    }
   ],
   "source": [
    "X1"
   ]
  },
  {
   "cell_type": "markdown",
   "id": "eac6d8ec-a63e-4ef8-a435-6e313a36be94",
   "metadata": {},
   "source": [
    "## Jacobian Conversion Rules"
   ]
  },
  {
   "cell_type": "code",
   "execution_count": null,
   "id": "0f077dfd-e250-4477-a48e-f22bd836f66d",
   "metadata": {},
   "outputs": [],
   "source": []
  }
 ],
 "metadata": {
  "kernelspec": {
   "display_name": "Python 3",
   "language": "python",
   "name": "python3"
  },
  "language_info": {
   "codemirror_mode": {
    "name": "ipython",
    "version": 3
   },
   "file_extension": ".py",
   "mimetype": "text/x-python",
   "name": "python",
   "nbconvert_exporter": "python",
   "pygments_lexer": "ipython3",
   "version": "3.11.9"
  }
 },
 "nbformat": 4,
 "nbformat_minor": 5
}
