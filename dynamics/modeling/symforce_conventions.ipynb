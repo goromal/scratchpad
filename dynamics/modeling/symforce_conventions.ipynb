{
 "cells": [
  {
   "cell_type": "code",
   "execution_count": 25,
   "id": "1e7f81d0-1b5c-4f8f-aa6d-c806d8aa341f",
   "metadata": {},
   "outputs": [],
   "source": [
    "from geometry import SO3, SE3\n",
    "import numpy as np\n",
    "import symforce.symbolic as sf"
   ]
  },
  {
   "cell_type": "markdown",
   "id": "66c55baf-1eca-4782-b863-2685150cfaf8",
   "metadata": {},
   "source": [
    "## SO(3) Conventions\n",
    "\n",
    "- **geometry:** **w**, x, y, z\n",
    "- **symforce:** x, y, z, **w**\n",
    "- Despite difference in representation ordering, tangent space ordering is *identical*"
   ]
  },
  {
   "cell_type": "code",
   "execution_count": 12,
   "id": "9cb1ee73-c155-4320-8ae2-5cdf43ec8217",
   "metadata": {},
   "outputs": [],
   "source": [
    "def geometryToSymforceRotation(q):\n",
    "    rpy = q.toEuler()\n",
    "    return sf.Rot3.from_yaw_pitch_roll(rpy[2], rpy[1], rpy[0])"
   ]
  },
  {
   "cell_type": "code",
   "execution_count": 15,
   "id": "5d197ffb-cd54-4dea-a302-284a44bd2fb7",
   "metadata": {},
   "outputs": [],
   "source": [
    "q1 = SO3.random()\n",
    "R1 = geometryToSymforceRotation(q1)\n",
    "q2 = SO3.random()\n",
    "R2 = geometryToSymforceRotation(q2)"
   ]
  },
  {
   "cell_type": "code",
   "execution_count": 16,
   "id": "55fc0c78-70e1-4287-9bd5-6826b1514d29",
   "metadata": {},
   "outputs": [
    {
     "data": {
      "text/plain": [
       "array([-0.23729309,  1.00711978,  2.36648593])"
      ]
     },
     "execution_count": 16,
     "metadata": {},
     "output_type": "execute_result"
    }
   ],
   "source": [
    "q2 - q1"
   ]
  },
  {
   "cell_type": "code",
   "execution_count": 18,
   "id": "7dbbfb5d-3c92-4ad9-a779-9b290ef04361",
   "metadata": {},
   "outputs": [
    {
     "data": {
      "text/plain": [
       "[-0.237293087757156, 1.00711977724096, 2.36648592842344]"
      ]
     },
     "execution_count": 18,
     "metadata": {},
     "output_type": "execute_result"
    }
   ],
   "source": [
    "R1.local_coordinates(R2)"
   ]
  },
  {
   "cell_type": "code",
   "execution_count": 39,
   "id": "e2f0b04b-9272-4916-894e-72584a144585",
   "metadata": {},
   "outputs": [
    {
     "data": {
      "text/plain": [
       "<Rot3 <Q xyzw=[-0.567865792190578, 0.476148315155815, -0.537423293982017, -0.402476616860614]>>"
      ]
     },
     "execution_count": 39,
     "metadata": {},
     "output_type": "execute_result"
    }
   ],
   "source": [
    "R1"
   ]
  },
  {
   "cell_type": "markdown",
   "id": "093d7652-0bc4-4a28-a42e-9f53b6b282ce",
   "metadata": {},
   "source": [
    "## SE(3) Conventions\n",
    "\n",
    "- **geometry:** translation first, then rotation\n",
    "- **symforce:** rotation first, then transform\n",
    "- Representation ordering differences mirror tangent space ordering differences\n",
    "- ***The translation coordinate frames seem to be different in the tangent space...***"
   ]
  },
  {
   "cell_type": "code",
   "execution_count": 31,
   "id": "2d38e536-d0a5-4c9d-ac83-7c33c99e69e8",
   "metadata": {},
   "outputs": [],
   "source": [
    "def geometryToSymforceTransform(T):\n",
    "    t = T.t()\n",
    "    q = T.q()\n",
    "    return sf.Pose3(R=sf.Rot3.from_rotation_matrix(q.R()), t=sf.V3(t))"
   ]
  },
  {
   "cell_type": "code",
   "execution_count": 41,
   "id": "cd43b00c-dc4e-41a1-bac0-8224689d59e2",
   "metadata": {},
   "outputs": [],
   "source": [
    "T1 = SE3.random()\n",
    "X1 = geometryToSymforceTransform(T1)\n",
    "T2 = SE3.random()\n",
    "X2 = geometryToSymforceTransform(T2)"
   ]
  },
  {
   "cell_type": "code",
   "execution_count": 42,
   "id": "55dbb4f2-d631-4e00-a710-7f6e242b810b",
   "metadata": {},
   "outputs": [
    {
     "data": {
      "text/plain": [
       "array([-0.63922823,  0.77997319,  1.09645985,  0.07122052, -1.78688725,\n",
       "        1.19080292])"
      ]
     },
     "execution_count": 42,
     "metadata": {},
     "output_type": "execute_result"
    }
   ],
   "source": [
    "T2 - T1"
   ]
  },
  {
   "cell_type": "code",
   "execution_count": 43,
   "id": "0f1ad09a-b567-44d6-ba11-c0d76a29774f",
   "metadata": {},
   "outputs": [
    {
     "data": {
      "text/plain": [
       "[0.0712205153899413,\n",
       " -1.78688724961981,\n",
       " 1.1908029215531,\n",
       " -0.45477081204521,\n",
       " -0.204245488254468,\n",
       " 1.11325615975692]"
      ]
     },
     "execution_count": 43,
     "metadata": {},
     "output_type": "execute_result"
    }
   ],
   "source": [
    "X1.local_coordinates(X2)"
   ]
  },
  {
   "cell_type": "code",
   "execution_count": 38,
   "id": "0c335e4f-e317-4599-827f-2cad76c1141b",
   "metadata": {},
   "outputs": [
    {
     "data": {
      "text/plain": [
       "<Pose3 R=<Rot3 <Q xyzw=[-0.623511218461162, 0.241437925601021, 0.696364345368465, -0.260802965922747]>>, t=(0.0519907004442022, -0.827888304287516, -0.615572308011154)>"
      ]
     },
     "execution_count": 38,
     "metadata": {},
     "output_type": "execute_result"
    }
   ],
   "source": [
    "X1"
   ]
  },
  {
   "cell_type": "markdown",
   "id": "eac6d8ec-a63e-4ef8-a435-6e313a36be94",
   "metadata": {},
   "source": [
    "## Jacobian Conversion Rules"
   ]
  },
  {
   "cell_type": "code",
   "execution_count": null,
   "id": "0f077dfd-e250-4477-a48e-f22bd836f66d",
   "metadata": {},
   "outputs": [],
   "source": []
  }
 ],
 "metadata": {
  "kernelspec": {
   "display_name": "Python 3",
   "language": "python",
   "name": "python3"
  },
  "language_info": {
   "codemirror_mode": {
    "name": "ipython",
    "version": 3
   },
   "file_extension": ".py",
   "mimetype": "text/x-python",
   "name": "python",
   "nbconvert_exporter": "python",
   "pygments_lexer": "ipython3",
   "version": "3.11.9"
  }
 },
 "nbformat": 4,
 "nbformat_minor": 5
}
