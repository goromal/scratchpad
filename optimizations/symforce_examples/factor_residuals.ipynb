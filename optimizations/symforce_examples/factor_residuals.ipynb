{
 "cells": [
  {
   "cell_type": "markdown",
   "id": "fc7bf1c2-a788-446f-92d0-7a635e935bc3",
   "metadata": {},
   "source": [
    "Here we show how to define your own residual function and generate it into a factor to use from C++. You can define factors by importing existing symbolic factors that we've defined and modifying them, or by writing your own symbolic functions from scratch using our symbolic toolkit."
   ]
  },
  {
   "cell_type": "code",
   "execution_count": 1,
   "id": "51d53cb1-9643-4b86-a3ac-d748f8ac63f5",
   "metadata": {},
   "outputs": [],
   "source": [
    "import symforce.symbolic as sf\n",
    "from symforce.codegen import geo_factors_codegen\n",
    "\n",
    "\n",
    "def custom_between_factor_residual(\n",
    "    nav_T_src: sf.Pose3,\n",
    "    nav_T_target: sf.Pose3,\n",
    "    target_T_src_prior: sf.Pose3,\n",
    "    prior_weight: sf.Scalar,\n",
    "    prior_sigmas: sf.Vector6,\n",
    "    epsilon: sf.Scalar,\n",
    ") -> sf.Vector6:\n",
    "    \"\"\"\n",
    "    Return the 6dof residual on the relative pose between the given two views. Compares\n",
    "    the relative pose between the optimized poses to the relative pose between the priors.\n",
    "\n",
    "    This is similar to geo_factors_codegen.between_factor, but it uses a weight and diagonal\n",
    "    covariance instead of a sqrt information matrix\n",
    "\n",
    "    Args:\n",
    "        nav_T_src: Current pose of the src frame\n",
    "        nav_T_target: Current pose of the target frame\n",
    "        target_T_src_prior: Prior on the pose of src in the target frame\n",
    "        prior_weight: The weight of the Gaussian prior\n",
    "        prior_sigmas: The diagonal of the sqrt covariance matrix\n",
    "        epsilon: Small positive value\n",
    "\n",
    "    Outputs:\n",
    "        res: The residual of the between factor\n",
    "    \"\"\"\n",
    "    # Note: sqrt(weight) is safe and does not need to be pushed away from 0 by epsilon because\n",
    "    # weight is a hyperparameter, so we don't need to differentiate with respect to weight or worry\n",
    "    # about it being slightly negative.  Plus, adding epsilon would break the weight==0 case\n",
    "    sqrt_info = sf.sqrt(prior_weight) * sf.Matrix66.diag(\n",
    "        prior_sigmas.applyfunc(lambda s: 1 / (s + epsilon)).to_flat_list()\n",
    "    )\n",
    "\n",
    "    return sf.Vector6(\n",
    "        geo_factors_codegen.between_factor(\n",
    "            nav_T_target, nav_T_src, target_T_src_prior, sqrt_info, epsilon\n",
    "        )\n",
    "    )"
   ]
  },
  {
   "cell_type": "code",
   "execution_count": 2,
   "id": "caa5698d-7632-4b99-8477-7e3a7f55b8d4",
   "metadata": {},
   "outputs": [
    {
     "name": "stderr",
     "output_type": "stream",
     "text": [
      "codegen.__init__():141 WARNING -- \n",
      "    Generating code with epsilon set to 0 - This is dangerous!  You may get NaNs, Infs,\n",
      "    or numerically unstable results from calling generated functions near singularities.\n",
      "\n",
      "    In order to safely generate code, you should set epsilon to either a symbol\n",
      "    (recommended) or a small numerical value like `sf.numeric_epsilon`.  You should do\n",
      "    this before importing any other code from symforce, e.g. with\n",
      "\n",
      "        import symforce\n",
      "        symforce.set_epsilon_to_symbol()\n",
      "\n",
      "    or\n",
      "\n",
      "        import symforce\n",
      "        symforce.set_epsilon_to_number()\n",
      "\n",
      "    For more information on use of epsilon to prevent singularities, take a look at the\n",
      "    Epsilon Tutorial: https://symforce.org/tutorials/epsilon_tutorial.html\n",
      "\n",
      "codegen.__init__():141 WARNING -- \n",
      "    Generating code with epsilon set to 0 - This is dangerous!  You may get NaNs, Infs,\n",
      "    or numerically unstable results from calling generated functions near singularities.\n",
      "\n",
      "    In order to safely generate code, you should set epsilon to either a symbol\n",
      "    (recommended) or a small numerical value like `sf.numeric_epsilon`.  You should do\n",
      "    this before importing any other code from symforce, e.g. with\n",
      "\n",
      "        import symforce\n",
      "        symforce.set_epsilon_to_symbol()\n",
      "\n",
      "    or\n",
      "\n",
      "        import symforce\n",
      "        symforce.set_epsilon_to_number()\n",
      "\n",
      "    For more information on use of epsilon to prevent singularities, take a look at the\n",
      "    Epsilon Tutorial: https://symforce.org/tutorials/epsilon_tutorial.html\n",
      "\n"
     ]
    }
   ],
   "source": [
    "from symforce import codegen\n",
    "from symforce import logger\n",
    "from symforce import typing as T\n",
    "\n",
    "def generate(output_dir: T.Openable) -> None:\n",
    "    \"\"\"\n",
    "    Generate the example custom_between_factor_residual factor\n",
    "\n",
    "    This is called from symforce/test/symforce_examples_custom_factor_generation_codegen_test.py to\n",
    "    actually generate the factor\n",
    "    \"\"\"\n",
    "    logger.debug(\"Generating factors\")\n",
    "    namespace = \"custom_factor_generation\"\n",
    "\n",
    "    codegen.Codegen.function(\n",
    "        func=custom_between_factor_residual, config=codegen.CppConfig()\n",
    "    ).with_linearization(which_args=[\"nav_T_src\", \"nav_T_target\"]).generate_function(\n",
    "        output_dir=output_dir, namespace=namespace\n",
    "    )\n",
    "\n",
    "generate(\".\")"
   ]
  },
  {
   "cell_type": "code",
   "execution_count": null,
   "id": "e58b53e0-d762-46cd-8cbd-940d5d82b232",
   "metadata": {},
   "outputs": [],
   "source": []
  }
 ],
 "metadata": {
  "kernelspec": {
   "display_name": "Python 3",
   "language": "python",
   "name": "python3"
  },
  "language_info": {
   "codemirror_mode": {
    "name": "ipython",
    "version": 3
   },
   "file_extension": ".py",
   "mimetype": "text/x-python",
   "name": "python",
   "nbconvert_exporter": "python",
   "pygments_lexer": "ipython3",
   "version": "3.11.9"
  }
 },
 "nbformat": 4,
 "nbformat_minor": 5
}
