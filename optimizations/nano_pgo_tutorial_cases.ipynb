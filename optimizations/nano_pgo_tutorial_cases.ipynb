{
 "cells": [
  {
   "cell_type": "markdown",
   "id": "3b259d09-b437-4b52-9702-e7b697bc969e",
   "metadata": {},
   "source": [
    "# Nano PGO Experiments\n",
    "\n",
    "I'm investigating https://github.com/gisbi-kim/nano-pgo/tree/main as a \"pure Python\" alternative to the PyCeres-based solutions outlined in [the Ceres tutorial](./ceres_tutorial.ipynb).\n",
    "\n",
    "## Hello World"
   ]
  },
  {
   "cell_type": "code",
   "execution_count": 1,
   "id": "ae8886ac-7200-47b2-9e4f-79ef65ed0379",
   "metadata": {},
   "outputs": [],
   "source": [
    "import symforce.symbolic as sf\n",
    "from symforce.ops import LieGroupOps\n",
    "\n",
    "# Define rotation variables (rotation vectors for each axis)\n",
    "sf_ri = sf.V3.symbolic(\"ri\")  # Rotation of pose_i\n",
    "sf_rj = sf.V3.symbolic(\"rj\")  # Rotation of pose_j\n",
    "sf_rij = sf.V3.symbolic(\"rij\")  # Measured relative rotation"
   ]
  },
  {
   "cell_type": "code",
   "execution_count": null,
   "id": "ffb1c7b5-3d94-4783-9890-5578f08d0ac6",
   "metadata": {},
   "outputs": [],
   "source": []
  }
 ],
 "metadata": {
  "kernelspec": {
   "display_name": "SageMath 10.3",
   "language": "sage",
   "name": "sagemath"
  },
  "language_info": {
   "codemirror_mode": {
    "name": "ipython",
    "version": 3
   },
   "file_extension": ".py",
   "mimetype": "text/x-python",
   "name": "python",
   "nbconvert_exporter": "python",
   "pygments_lexer": "ipython3",
   "version": "3.11.9"
  }
 },
 "nbformat": 4,
 "nbformat_minor": 5
}
