{
 "cells": [
  {
   "cell_type": "code",
   "execution_count": null,
   "id": "227d85aa",
   "metadata": {},
   "outputs": [],
   "source": [
    "import numpy as np\n",
    "from geometry import SO3, SE3\n",
    "from mesh_plotter.meshes import Axes3DMesh\n",
    "from mesh_plotter.animator_3d import Animator3D\n",
    "\n",
    "times = [0.0, 5.0, 10.0, 15.0]\n",
    "\n",
    "se3_1 = SE3.identity()\n",
    "se3_2 = SE3.fromVecAndQuat(np.array([2.0,0.0,0.0]),\n",
    "                           SO3.fromEuler(1.5,-2.0,0.2))\n",
    "se3_3 = SE3.fromVecAndQuat(np.array([-1.5,-1.5,1.5]),\n",
    "                           SO3.random())\n",
    "\n",
    "transforms1 = [se3_1]*4\n",
    "transforms2 = [se3_2]*4\n",
    "transforms3 = [se3_3]*4\n",
    "transforms  = [se3_1, se3_2, se3_3, se3_1]\n",
    "\n",
    "animator = Animator3D(xlim=(-2.5,2.5), ylim=(-2.5,2.5), zlim=(0.,2.))\n",
    "animator.addMeshSequence(Axes3DMesh(scale=0.4), transforms1, times)\n",
    "animator.addMeshSequence(Axes3DMesh(scale=0.4), transforms2, times)\n",
    "animator.addMeshSequence(Axes3DMesh(scale=0.4), transforms3, times)\n",
    "animator.addMeshSequence(Axes3DMesh(), transforms, times)\n",
    "animator.animate(dt = 0.1, notebook_mode=True)"
   ]
  },
  {
   "cell_type": "code",
   "execution_count": null,
   "id": "6ec1ba8b",
   "metadata": {},
   "outputs": [],
   "source": []
  }
 ],
 "metadata": {
  "kernelspec": {
   "display_name": "SageMath 10.0",
   "language": "sagemath",
   "name": "sagemath"
  },
  "language_info": {
   "codemirror_mode": {
    "name": "ipython",
    "version": 3
   },
   "file_extension": ".py",
   "mimetype": "text/x-python",
   "name": "python",
   "nbconvert_exporter": "python",
   "pygments_lexer": "ipython3",
   "version": "3.10.11"
  }
 },
 "nbformat": 4,
 "nbformat_minor": 5
}
