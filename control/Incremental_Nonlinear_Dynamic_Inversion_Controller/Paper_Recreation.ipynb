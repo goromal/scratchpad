{
 "cells": [
  {
   "cell_type": "markdown",
   "id": "b5f2c33f-b1f9-4239-915b-16299196f34b",
   "metadata": {},
   "source": [
    "https://drive.google.com/drive/u/0/folders/1icj1rmsWivQ__RXCyXTokY8XAUDDP8N4"
   ]
  },
  {
   "cell_type": "code",
   "execution_count": null,
   "id": "8e4453c2-652d-4003-b822-c2903c304ced",
   "metadata": {},
   "outputs": [],
   "source": []
  }
 ],
 "metadata": {
  "kernelspec": {
   "display_name": "Python 3",
   "language": "python",
   "name": "python3"
  },
  "language_info": {
   "codemirror_mode": {
    "name": "ipython",
    "version": 3
   },
   "file_extension": ".py",
   "mimetype": "text/x-python",
   "name": "python",
   "nbconvert_exporter": "python",
   "pygments_lexer": "ipython3",
   "version": "3.11.9"
  }
 },
 "nbformat": 4,
 "nbformat_minor": 5
}
